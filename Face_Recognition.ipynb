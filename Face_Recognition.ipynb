{
 "cells": [
  {
   "cell_type": "code",
   "execution_count": 1,
   "id": "celtic-definition",
   "metadata": {},
   "outputs": [],
   "source": [
    "import cv2\n",
    "import numpy as np\n",
    "from os import listdir\n",
    "from os.path import isfile, join\n",
    "import os\n",
    "import threading\n",
    "\n",
    "#Custom module\n",
    "import sendemail\n",
    "import sendWhatsApp\n",
    "import LaunchAWS\n",
    "\n",
    "face_classifier = cv2.CascadeClassifier('haarcascade_frontalface_default.xml')"
   ]
  },
  {
   "cell_type": "markdown",
   "id": "public-inquiry",
   "metadata": {},
   "source": [
    "# Loading the model of User1 and User2 "
   ]
  },
  {
   "cell_type": "code",
   "execution_count": 2,
   "id": "beneficial-architecture",
   "metadata": {},
   "outputs": [
    {
     "name": "stdout",
     "output_type": "stream",
     "text": [
      "\n",
      " User1 trained model has been loaded successfully.\n",
      "\n",
      " User2 trained model has been loaded successfully.\n"
     ]
    }
   ],
   "source": [
    "User1_saved_model = cv2.face_LBPHFaceRecognizer.create()\n",
    "User2_saved_model = cv2.face_LBPHFaceRecognizer.create()\n",
    "\n",
    "User1_saved_model.read('./saved_model/User1_model.yml')\n",
    "print(\"\\n User1 trained model has been loaded successfully.\")\n",
    "\n",
    "\n",
    "User2_saved_model.read('./saved_model/User2_model.yml')\n",
    "print(\"\\n User2 trained model has been loaded successfully.\")\n"
   ]
  },
  {
   "cell_type": "markdown",
   "id": "absent-blind",
   "metadata": {},
   "source": [
    "\n",
    "# If User1 face is recognized then:\n",
    "\n",
    "## 1. Send Mail with the image of the User1.\n",
    "## 2. Send WhatsApp message to the given number.\n",
    "\n",
    "\n",
    "# If User2 face is recognized then :\n",
    "\n",
    "## Launching EC2 instance and EBS volume on AWS & attach both using Terraform"
   ]
  },
  {
   "cell_type": "code",
   "execution_count": 3,
   "id": "controversial-strap",
   "metadata": {},
   "outputs": [
    {
     "name": "stderr",
     "output_type": "stream",
     "text": [
      "<>:6: SyntaxWarning: \"is\" with a literal. Did you mean \"==\"?\n",
      "<>:6: SyntaxWarning: \"is\" with a literal. Did you mean \"==\"?\n",
      "<ipython-input-3-3f13c0b68838>:6: SyntaxWarning: \"is\" with a literal. Did you mean \"==\"?\n",
      "  if faces is ():\n"
     ]
    },
    {
     "name": "stdout",
     "output_type": "stream",
     "text": [
      "\n",
      " --> Devanshu's face Recognized.\n",
      "Sending mail...\n",
      "(235, b'2.7.0 Accepted')\n",
      "Successfully sent email\n",
      "\n",
      " WhatsApp message has been sent to the given number.\n",
      "\n",
      "\n",
      " --> Himanshu's face Recognized.\n",
      "\n",
      " --> Runing Terraform code, Please wait ...\n",
      "\n",
      " EC2 instance and EBS volume launched on AWS & both are attached using Terraform.\n",
      "\n",
      " Done!\n"
     ]
    }
   ],
   "source": [
    "def face_detector(img, size=0.5):\n",
    "    \n",
    "    # Convert image to grayscale\n",
    "    gray = cv2.cvtColor(img,cv2.COLOR_BGR2GRAY)\n",
    "    faces = face_classifier.detectMultiScale(gray, 1.3, 5)\n",
    "    if faces is ():\n",
    "        return img, []\n",
    "     \n",
    "    for (x,y,w,h) in faces:\n",
    "        cv2.rectangle(img,(x,y),(x+w,y+h),(0,255,255),2)\n",
    "        roi = img[y:y+h, x:x+w]\n",
    "        roi = cv2.resize(roi, (200, 200))\n",
    "    return img, roi\n",
    "\n",
    "\n",
    "# Open Webcam\n",
    "cap = cv2.VideoCapture(0)\n",
    "\n",
    "flag1=False\n",
    "flag2=False\n",
    "\n",
    "while True:\n",
    "    ret, frame = cap.read()\n",
    "    image1, face1 = face_detector(frame)\n",
    "    image2, face2 = face_detector(frame)\n",
    "    \n",
    "    try:\n",
    "        face1 = cv2.cvtColor(face1, cv2.COLOR_BGR2GRAY)\n",
    "        face2 = cv2.cvtColor(face2, cv2.COLOR_BGR2GRAY)\n",
    "        \n",
    "        # Pass face to prediction model\n",
    "        # \"results\" comprises of a tuple containing the label and the confidence value\n",
    "        result1 = User1_saved_model.predict(face1)\n",
    "        result2 = User2_saved_model.predict(face2)\n",
    "        \n",
    "        \n",
    "        #User1\n",
    "        if result1[1] < 500:\n",
    "            confidence1 = int( 100 * (1 - (result1[1])/400) )\n",
    "            if confidence1 > 89:\n",
    "                display_string = str(confidence1) + '% Confident of Dev'\n",
    "                cv2.putText(image1, display_string, (50, 60), cv2.FONT_HERSHEY_COMPLEX, 1, (0,255,0), 2) #50 60\n",
    "\n",
    "        #User2\n",
    "        if result2[1] < 500:\n",
    "            confidence2 = int( 100 * (1 - (result2[1])/400) )\n",
    "            if confidence2 > 85:\n",
    "                display_string = str(confidence2) + '% Confident of Him'  \n",
    "                cv2.putText(image2, display_string, (80, 90), cv2.FONT_HERSHEY_COMPLEX, 1, (0,255,0), 2) #100 120\n",
    "\n",
    "        #User1\n",
    "        if confidence1 > 89 and flag1 == False:\n",
    "            #cv2.putText(image1, \"Hey Buddy\", (250, 450), cv2.FONT_HERSHEY_COMPLEX, 1, (0,255,0), 2)\n",
    "            cv2.imshow('Face Recognition', image1 )\n",
    "            print(\"\\n --> Devanshu's face Recognized.\")\n",
    "            sendemail.sendemail(\n",
    "                \"sender@gmail.com\",\n",
    "                \"reciver@gmail.com \",\n",
    "                \"This is automated mail generated from Python program\",\n",
    "                \"password\"\n",
    "                    )\n",
    "            sendWhatsApp.sendmessage()\n",
    "            print(\"\\n WhatsApp message has been sent to the given number.\\n\")\n",
    "            flag1 =True\n",
    "            \n",
    "        #person2\n",
    "        if confidence2 > 85 and flag2 == False:\n",
    "            #cv2.putText(image2, \"Hey Buddy\", (250, 450), cv2.FONT_HERSHEY_COMPLEX, 1, (0,255,0), 2)\n",
    "            cv2.imshow('Face Recognition', image2 )\n",
    "            print(\"\\n --> Himanshu's face Recognized.\")\n",
    "            print(\"\\n --> Runing Terraform code, Please wait ...\")\n",
    "            LaunchAWS.ec2_and_ebs()\n",
    "            print(\"\\n EC2 instance and EBS volume launched on AWS & both are attached using Terraform.\")\n",
    "            flag2 =True        \n",
    "        \n",
    "       \n",
    "        else:\n",
    "            #User1\n",
    "            if confidence1 > 89:\n",
    "                cv2.putText(image1, \"D_Done\", (200, 450), cv2.FONT_HERSHEY_COMPLEX, 1, (255,0,0), 2)\n",
    "                cv2.imshow('Face Recognition', image1 )\n",
    "            #User2\n",
    "            if confidence2 > 85:\n",
    "                cv2.putText(image2, \"H_Done\", (350, 450), cv2.FONT_HERSHEY_COMPLEX, 1, (255,0,0), 2)\n",
    "                cv2.imshow('Face Recognition', image2 )\n",
    "\n",
    "    except:\n",
    "        cv2.putText(image1, \"No Face Found\", (200, 100) , cv2.FONT_HERSHEY_COMPLEX, 1, (0,0,255), 2)\n",
    "        cv2.putText(image1, \"looking for face\", (300, 500), cv2.FONT_HERSHEY_COMPLEX, 1, (0,0,255), 2)\n",
    "        cv2.imshow('Face Recognition', image1 )\n",
    "        #person2\n",
    "        cv2.putText(image2, \"No Face Found\", (200, 100) , cv2.FONT_HERSHEY_COMPLEX, 1, (0,0,255), 2)\n",
    "        cv2.putText(image2, \"looking for face\", (300, 500), cv2.FONT_HERSHEY_COMPLEX, 1, (0,0,255), 2)\n",
    "        cv2.imshow('Face Recognition', image2 )\n",
    "        pass\n",
    "        \n",
    "    if cv2.waitKey(1) == 13: #13 is the Enter Key\n",
    "        break\n",
    "        \n",
    "        \n",
    "cap.release()\n",
    "cv2.destroyAllWindows() \n",
    "\n",
    "print(\"\\n Done!\")"
   ]
  }
 ],
 "metadata": {
  "kernelspec": {
   "display_name": "Python 3",
   "language": "python",
   "name": "python3"
  },
  "language_info": {
   "codemirror_mode": {
    "name": "ipython",
    "version": 3
   },
   "file_extension": ".py",
   "mimetype": "text/x-python",
   "name": "python",
   "nbconvert_exporter": "python",
   "pygments_lexer": "ipython3",
   "version": "3.8.10"
  }
 },
 "nbformat": 4,
 "nbformat_minor": 5
}
